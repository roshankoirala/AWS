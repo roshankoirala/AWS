{
 "cells": [
  {
   "cell_type": "code",
   "execution_count": 1,
   "id": "04c940fb",
   "metadata": {},
   "outputs": [],
   "source": [
    "import boto3 \n",
    "import sagemaker "
   ]
  },
  {
   "cell_type": "code",
   "execution_count": 2,
   "id": "18f7ba01",
   "metadata": {},
   "outputs": [
    {
     "data": {
      "text/plain": [
       "'arn:aws:iam::781274082941:role/service-role/AmazonSageMakerServiceCatalogProductsUseRole'"
      ]
     },
     "execution_count": 2,
     "metadata": {},
     "output_type": "execute_result"
    }
   ],
   "source": [
    "role = sagemaker.get_execution_role()\n",
    "role"
   ]
  },
  {
   "cell_type": "code",
   "execution_count": 3,
   "id": "d250b624",
   "metadata": {},
   "outputs": [
    {
     "data": {
      "text/plain": [
       "'us-east-2'"
      ]
     },
     "execution_count": 3,
     "metadata": {},
     "output_type": "execute_result"
    }
   ],
   "source": [
    "my_region = boto3.Session().region_name\n",
    "my_region "
   ]
  },
  {
   "cell_type": "markdown",
   "id": "8e0110b2",
   "metadata": {},
   "source": [
    "# Creating a S3 bucket"
   ]
  },
  {
   "cell_type": "code",
   "execution_count": 4,
   "id": "5704ad21",
   "metadata": {},
   "outputs": [
    {
     "data": {
      "text/plain": [
       "s3.ServiceResource()"
      ]
     },
     "execution_count": 4,
     "metadata": {},
     "output_type": "execute_result"
    }
   ],
   "source": [
    "bucket_name = 'sagemaker-demo-rksnrc-demo'\n",
    "s3 = boto3.resource('s3')\n",
    "s3"
   ]
  },
  {
   "cell_type": "code",
   "execution_count": 5,
   "id": "dfa8abab",
   "metadata": {},
   "outputs": [
    {
     "name": "stdout",
     "output_type": "stream",
     "text": [
      "S3 bucket created successfully\n"
     ]
    }
   ],
   "source": [
    "try:\n",
    "    if  my_region == 'us-east-1':\n",
    "        s3.create_bucket(Bucket=bucket_name)\n",
    "    else: \n",
    "        s3.create_bucket(\n",
    "            Bucket=bucket_name, \n",
    "            CreateBucketConfiguration={ 'LocationConstraint': my_region }\n",
    "        )\n",
    "    print('S3 bucket created successfully')\n",
    "except Exception as e:\n",
    "    print('S3 error: ',e)"
   ]
  },
  {
   "cell_type": "markdown",
   "id": "3a4bcf14",
   "metadata": {},
   "source": [
    "# Loading the data "
   ]
  },
  {
   "cell_type": "code",
   "execution_count": 6,
   "id": "2a457450",
   "metadata": {},
   "outputs": [],
   "source": [
    "import urllib.request\n",
    "import numpy as np\n",
    "import pandas as pd"
   ]
  },
  {
   "cell_type": "code",
   "execution_count": 7,
   "id": "5da61518",
   "metadata": {},
   "outputs": [
    {
     "name": "stdout",
     "output_type": "stream",
     "text": [
      "Success: downloaded bank_clean.csv.\n"
     ]
    }
   ],
   "source": [
    "data_url = \"https://d1.awsstatic.com/tmt\"\\\n",
    "            + \"/build-train-deploy-machine-learning-model-sagemaker/\"\\\n",
    "            + \"bank_clean.27f01fbbdf43271788427f3682996ae29ceca05d.csv\"\n",
    "\n",
    "try:\n",
    "    urllib.request.urlretrieve(\n",
    "        data_url, \n",
    "        \"bank_clean.csv\"\n",
    "    )\n",
    "    print('Success: downloaded bank_clean.csv.')\n",
    "except Exception as e:\n",
    "    print('Data load error: ', e)"
   ]
  },
  {
   "cell_type": "code",
   "execution_count": 8,
   "id": "a9049398",
   "metadata": {},
   "outputs": [
    {
     "name": "stdout",
     "output_type": "stream",
     "text": [
      "Success: Data loaded into dataframe.\n"
     ]
    }
   ],
   "source": [
    "try:\n",
    "    model_data = pd.read_csv('./bank_clean.csv',index_col=0)\n",
    "    print('Success: Data loaded into dataframe.')\n",
    "except Exception as e:\n",
    "    print('Data load error: ', e)"
   ]
  },
  {
   "cell_type": "code",
   "execution_count": 9,
   "id": "0ddeac64",
   "metadata": {},
   "outputs": [
    {
     "name": "stdout",
     "output_type": "stream",
     "text": [
      "(28831, 61) (12357, 61)\n"
     ]
    }
   ],
   "source": [
    "train_data, test_data = np.split(\n",
    "    model_data.sample(frac=1, random_state=1729), \n",
    "    [int(0.7 * len(model_data))]\n",
    ")\n",
    "print(train_data.shape, test_data.shape)"
   ]
  },
  {
   "cell_type": "markdown",
   "id": "7455d904",
   "metadata": {},
   "source": [
    "# Storing the (training) data in S3 "
   ]
  },
  {
   "cell_type": "code",
   "execution_count": 10,
   "id": "d8689c68",
   "metadata": {},
   "outputs": [],
   "source": [
    "import os"
   ]
  },
  {
   "cell_type": "code",
   "execution_count": 11,
   "id": "2e7125f3",
   "metadata": {},
   "outputs": [],
   "source": [
    "pd.concat(\n",
    "    [train_data['y_yes'], \n",
    "    train_data.drop(['y_no', 'y_yes'], axis=1)], \n",
    "    axis=1\n",
    ").to_csv('train.csv', index=False, header=False)"
   ]
  },
  {
   "cell_type": "code",
   "execution_count": 12,
   "id": "aad550f5",
   "metadata": {},
   "outputs": [],
   "source": [
    "prefix = 'sagemaker/DEMO-xgboost-dm'\n",
    "my_bucket = boto3.Session().resource('s3').Bucket(bucket_name)\n",
    "\n",
    "train_url = os.path.join(prefix, 'train/train.csv')\n",
    "my_bucket.Object(train_url).upload_file('train.csv')"
   ]
  },
  {
   "cell_type": "code",
   "execution_count": 31,
   "id": "81fe0d1f",
   "metadata": {},
   "outputs": [],
   "source": [
    "pd.concat(\n",
    "    [test_data['y_yes'], \n",
    "    test_data.drop(['y_no', 'y_yes'], axis=1)], \n",
    "    axis=1\n",
    ").to_csv('test.csv', index=False, header=False)\n",
    "\n",
    "test_url = os.path.join(prefix, 'test/test.csv')\n",
    "my_bucket.Object(test_url).upload_file('test.csv')"
   ]
  },
  {
   "cell_type": "code",
   "execution_count": null,
   "id": "ca57b7cb",
   "metadata": {},
   "outputs": [],
   "source": []
  },
  {
   "cell_type": "markdown",
   "id": "2aec9515",
   "metadata": {},
   "source": [
    "# Training a model "
   ]
  },
  {
   "cell_type": "code",
   "execution_count": 13,
   "id": "0a7e167d",
   "metadata": {},
   "outputs": [],
   "source": [
    "xgboost_container = sagemaker.image_uris.retrieve(\n",
    "    \"xgboost\", my_region, \"latest\"\n",
    ")"
   ]
  },
  {
   "cell_type": "code",
   "execution_count": 14,
   "id": "259e733d",
   "metadata": {},
   "outputs": [],
   "source": [
    "sess = sagemaker.Session()\n",
    "\n",
    "xgb_model = sagemaker.estimator.Estimator(\n",
    "    xgboost_container, \n",
    "    role, \n",
    "    instance_count=1, \n",
    "    instance_type='ml.m4.xlarge', # model training machine \n",
    "    output_path=f's3://{bucket_name}/{prefix}/output',\n",
    "    sagemaker_session=sess\n",
    ")"
   ]
  },
  {
   "cell_type": "code",
   "execution_count": 15,
   "id": "bc1bd9b6",
   "metadata": {},
   "outputs": [],
   "source": [
    "xgb_model.set_hyperparameters(\n",
    "    max_depth=5,\n",
    "    eta=0.2,\n",
    "    gamma=4,\n",
    "    min_child_weight=6,\n",
    "    subsample=0.8,\n",
    "    silent=0,\n",
    "    objective='binary:logistic',\n",
    "    num_round=100\n",
    ")"
   ]
  },
  {
   "cell_type": "code",
   "execution_count": 16,
   "id": "3d5d2af3",
   "metadata": {},
   "outputs": [],
   "source": [
    "s3_input_train = sagemaker.inputs.TrainingInput(\n",
    "    s3_data=f's3://{bucket_name}/{prefix}/train',\n",
    "    content_type='csv'\n",
    ")"
   ]
  },
  {
   "cell_type": "code",
   "execution_count": 19,
   "id": "4bfd5a47",
   "metadata": {},
   "outputs": [
    {
     "name": "stdout",
     "output_type": "stream",
     "text": [
      "\n",
      "2022-11-18 04:06:59 Starting - Starting the training job....\n",
      "2022-11-18 04:07:24 Starting - Preparing the instances for training......................\n",
      "2022-11-18 04:09:20 Downloading - Downloading input data....\n",
      "2022-11-18 04:09:45 Training - Downloading the training image...\n",
      "2022-11-18 04:10:05 Training - Training image download completed. Training in progress.....\n",
      "2022-11-18 04:10:28 Uploading - Uploading generated training model...........\n",
      "2022-11-18 04:11:28 Completed - Training job completed\n"
     ]
    }
   ],
   "source": [
    "xgb_model.fit({'train': s3_input_train}, logs=False)"
   ]
  },
  {
   "cell_type": "code",
   "execution_count": null,
   "id": "a2109101",
   "metadata": {},
   "outputs": [],
   "source": []
  },
  {
   "cell_type": "markdown",
   "id": "4608a6dd",
   "metadata": {},
   "source": [
    "# Deploy a model to hosting service "
   ]
  },
  {
   "cell_type": "code",
   "execution_count": 20,
   "id": "853b53b1",
   "metadata": {},
   "outputs": [
    {
     "name": "stdout",
     "output_type": "stream",
     "text": [
      "------!"
     ]
    }
   ],
   "source": [
    "xgb_predictor = xgb_model.deploy(\n",
    "    initial_instance_count=1,\n",
    "    instance_type='ml.m4.xlarge' # server for the hosting service \n",
    ")"
   ]
  },
  {
   "cell_type": "markdown",
   "id": "c1623c07",
   "metadata": {},
   "source": [
    "# Deploy a model to batch transform "
   ]
  },
  {
   "cell_type": "code",
   "execution_count": 23,
   "id": "02e971dc",
   "metadata": {},
   "outputs": [],
   "source": [
    "batch_output = f's3://{bucket_name}/{prefix}/test/examples'\n",
    "batch_input = f's3://{bucket_name}/{prefix}/batch_inference'"
   ]
  },
  {
   "cell_type": "code",
   "execution_count": 29,
   "id": "2f5bae64",
   "metadata": {},
   "outputs": [],
   "source": [
    "# transformer = xgb_model.transformer(\n",
    "#     instance_count=1, \n",
    "#     instance_type='ml.m4.2xlarge', \n",
    "#     output_path=batch_output, \n",
    "# )\n",
    "\n",
    "# transformer.transform(\n",
    "#     data=batch_input, \n",
    "#     data_type='S3Prefix',\n",
    "#     content_type='train/csv', \n",
    "#     split_type='Line',\n",
    "# )\n",
    "\n",
    "# transformer.wait()"
   ]
  },
  {
   "cell_type": "code",
   "execution_count": null,
   "id": "07f31cc9",
   "metadata": {},
   "outputs": [],
   "source": []
  },
  {
   "cell_type": "markdown",
   "id": "ef42e421",
   "metadata": {},
   "source": [
    "# Validate the model \n",
    "\n",
    "- how to access the model from `sagemaker.predictor.RealTimePredictor`?"
   ]
  },
  {
   "cell_type": "code",
   "execution_count": 52,
   "id": "535d5eb8",
   "metadata": {},
   "outputs": [],
   "source": [
    "from sagemaker.serializers import CSVSerializer\n",
    "from sklearn.metrics import confusion_matrix"
   ]
  },
  {
   "cell_type": "code",
   "execution_count": 41,
   "id": "1f533428",
   "metadata": {},
   "outputs": [],
   "source": [
    "my_bucket.download_file(test_url, 'test.csv')\n",
    "test_data_array = test_data.drop(['y_no', 'y_yes'], axis=1).values "
   ]
  },
  {
   "cell_type": "code",
   "execution_count": 47,
   "id": "cc7e4246",
   "metadata": {},
   "outputs": [],
   "source": [
    "xgb_predictor.serializer = CSVSerializer()\n",
    "predictions = xgb_predictor.predict(test_data_array)\n",
    "predictions_array = np.fromstring(\n",
    "    predictions[1:].decode('utf-8') , \n",
    "    sep=','\n",
    ") "
   ]
  },
  {
   "cell_type": "code",
   "execution_count": 54,
   "id": "b2c016b7",
   "metadata": {},
   "outputs": [
    {
     "data": {
      "text/plain": [
       "array([[10769,   167],\n",
       "       [ 1133,   288]])"
      ]
     },
     "execution_count": 54,
     "metadata": {},
     "output_type": "execute_result"
    }
   ],
   "source": [
    "confusion_matrix(\n",
    "    test_data['y_yes'], \n",
    "    (predictions_array > 0.5).astype('int')\n",
    ")"
   ]
  },
  {
   "cell_type": "markdown",
   "id": "a7423db5",
   "metadata": {},
   "source": [
    "# Endpoint to internet app\n",
    "\n",
    "\n",
    "- Create an IAM role that the AWS Lambda service principal can assume. Give the role permissions to\n",
    "call the Amazon SageMaker InvokeEndpoint API.\n",
    "- Create a Lambda function that calls the Amazon SageMaker InvokeEndpoint API.\n",
    "- Call the Lambda function from a mobile application."
   ]
  },
  {
   "cell_type": "code",
   "execution_count": null,
   "id": "f6dc1768",
   "metadata": {},
   "outputs": [],
   "source": []
  },
  {
   "cell_type": "markdown",
   "id": "6d372a10",
   "metadata": {},
   "source": [
    "# Clean up resources "
   ]
  },
  {
   "cell_type": "code",
   "execution_count": 55,
   "id": "d00106c4",
   "metadata": {},
   "outputs": [
    {
     "data": {
      "text/plain": [
       "[{'ResponseMetadata': {'RequestId': 'H8EY1DA8RTBBFG3M',\n",
       "   'HostId': '7zC1n21/Fu5sVrY9Nxq/LWxaFVK4yCd98m+HyryY/1ijqclwP5yWFIGQ6Ze1bj7atsIAHOE4JPU=',\n",
       "   'HTTPStatusCode': 200,\n",
       "   'HTTPHeaders': {'x-amz-id-2': '7zC1n21/Fu5sVrY9Nxq/LWxaFVK4yCd98m+HyryY/1ijqclwP5yWFIGQ6Ze1bj7atsIAHOE4JPU=',\n",
       "    'x-amz-request-id': 'H8EY1DA8RTBBFG3M',\n",
       "    'date': 'Fri, 18 Nov 2022 04:58:01 GMT',\n",
       "    'content-type': 'application/xml',\n",
       "    'transfer-encoding': 'chunked',\n",
       "    'server': 'AmazonS3',\n",
       "    'connection': 'close'},\n",
       "   'RetryAttempts': 0},\n",
       "  'Deleted': [{'Key': 'sagemaker/DEMO-xgboost-dm/output/xgboost-2022-11-18-04-06-59-761/rule-output/ProfilerReport-1668744419/profiler-output/profiler-report.ipynb'},\n",
       "   {'Key': 'sagemaker/DEMO-xgboost-dm/output/xgboost-2022-11-18-04-06-59-761/output/model.tar.gz'},\n",
       "   {'Key': 'sagemaker/DEMO-xgboost-dm/output/xgboost-2022-11-18-04-06-59-761/profiler-output/system/incremental/2022111804/1668744540.algo-1.json'},\n",
       "   {'Key': 'sagemaker/DEMO-xgboost-dm/output/xgboost-2022-11-18-04-06-59-761/rule-output/ProfilerReport-1668744419/profiler-output/profiler-report.html'},\n",
       "   {'Key': 'sagemaker/DEMO-xgboost-dm/output/xgboost-2022-11-18-04-06-59-761/rule-output/ProfilerReport-1668744419/profiler-output/profiler-reports/IOBottleneck.json'},\n",
       "   {'Key': 'sagemaker/DEMO-xgboost-dm/output/xgboost-2022-11-18-04-06-59-761/rule-output/ProfilerReport-1668744419/profiler-output/profiler-reports/MaxInitializationTime.json'},\n",
       "   {'Key': 'sagemaker/DEMO-xgboost-dm/output/xgboost-2022-11-18-04-06-59-761/rule-output/ProfilerReport-1668744419/profiler-output/profiler-reports/GPUMemoryIncrease.json'},\n",
       "   {'Key': 'sagemaker/DEMO-xgboost-dm/output/xgboost-2022-11-18-04-01-19-983/profiler-output/system/incremental/2022111804/1668744240.algo-1.json'},\n",
       "   {'Key': 'sagemaker/DEMO-xgboost-dm/output/xgboost-2022-11-18-04-06-59-761/rule-output/ProfilerReport-1668744419/profiler-output/profiler-reports/StepOutlier.json'},\n",
       "   {'Key': 'sagemaker/DEMO-xgboost-dm/output/xgboost-2022-11-18-04-01-19-983/debug-output/training_job_end.ts'},\n",
       "   {'Key': 'sagemaker/DEMO-xgboost-dm/output/xgboost-2022-11-18-04-01-19-983/profiler-output/system/incremental/2022111804/1668744180.algo-1.json'},\n",
       "   {'Key': 'sagemaker/DEMO-xgboost-dm/output/xgboost-2022-11-18-04-06-59-761/profiler-output/system/training_job_end.ts'},\n",
       "   {'Key': 'sagemaker/DEMO-xgboost-dm/output/xgboost-2022-11-18-04-06-59-761/rule-output/ProfilerReport-1668744419/profiler-output/profiler-reports/OverallFrameworkMetrics.json'},\n",
       "   {'Key': 'sagemaker/DEMO-xgboost-dm/output/xgboost-2022-11-18-04-06-59-761/profiler-output/system/incremental/2022111804/1668744600.algo-1.json'},\n",
       "   {'Key': 'sagemaker/DEMO-xgboost-dm/output/xgboost-2022-11-18-04-01-19-983/profiler-output/system/training_job_end.ts'},\n",
       "   {'Key': 'sagemaker/DEMO-xgboost-dm/output/xgboost-2022-11-18-04-06-59-761/rule-output/ProfilerReport-1668744419/profiler-output/profiler-reports/CPUBottleneck.json'},\n",
       "   {'Key': 'sagemaker/DEMO-xgboost-dm/output/xgboost-2022-11-18-04-06-59-761/rule-output/ProfilerReport-1668744419/profiler-output/profiler-reports/OverallSystemUsage.json'},\n",
       "   {'Key': 'sagemaker/DEMO-xgboost-dm/output/xgboost-2022-11-18-04-06-59-761/rule-output/ProfilerReport-1668744419/profiler-output/profiler-reports/Dataloader.json'},\n",
       "   {'Key': 'sagemaker/DEMO-xgboost-dm/output/xgboost-2022-11-18-04-06-59-761/rule-output/ProfilerReport-1668744419/profiler-output/profiler-reports/LoadBalancing.json'},\n",
       "   {'Key': 'sagemaker/DEMO-xgboost-dm/output/xgboost-2022-11-18-04-01-19-983/profiler-output/framework/training_job_end.ts'},\n",
       "   {'Key': 'sagemaker/DEMO-xgboost-dm/test/test.csv'},\n",
       "   {'Key': 'sagemaker/DEMO-xgboost-dm/output/xgboost-2022-11-18-04-06-59-761/profiler-output/framework/training_job_end.ts'},\n",
       "   {'Key': 'sagemaker/DEMO-xgboost-dm/train/train.csv'},\n",
       "   {'Key': 'sagemaker/DEMO-xgboost-dm/output/xgboost-2022-11-18-04-06-59-761/debug-output/training_job_end.ts'},\n",
       "   {'Key': 'sagemaker/DEMO-xgboost-dm/output/xgboost-2022-11-18-04-06-59-761/rule-output/ProfilerReport-1668744419/profiler-output/profiler-reports/LowGPUUtilization.json'},\n",
       "   {'Key': 'sagemaker/DEMO-xgboost-dm/output/xgboost-2022-11-18-04-06-59-761/rule-output/ProfilerReport-1668744419/profiler-output/profiler-reports/BatchSize.json'}]}]"
      ]
     },
     "execution_count": 55,
     "metadata": {},
     "output_type": "execute_result"
    }
   ],
   "source": [
    "xgb_predictor.delete_endpoint(delete_endpoint_config=True)\n",
    "\n",
    "bucket_to_delete = boto3.resource('s3').Bucket(bucket_name)\n",
    "bucket_to_delete.objects.all().delete()"
   ]
  },
  {
   "cell_type": "code",
   "execution_count": null,
   "id": "3d5b4029",
   "metadata": {},
   "outputs": [],
   "source": []
  }
 ],
 "metadata": {
  "kernelspec": {
   "display_name": "conda_python3",
   "language": "python",
   "name": "conda_python3"
  },
  "language_info": {
   "codemirror_mode": {
    "name": "ipython",
    "version": 3
   },
   "file_extension": ".py",
   "mimetype": "text/x-python",
   "name": "python",
   "nbconvert_exporter": "python",
   "pygments_lexer": "ipython3",
   "version": "3.8.12"
  }
 },
 "nbformat": 4,
 "nbformat_minor": 5
}
